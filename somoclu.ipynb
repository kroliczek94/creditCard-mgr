{
 "cells": [
  {
   "cell_type": "code",
   "execution_count": null,
   "metadata": {
    "collapsed": true
   },
   "outputs": [],
   "source": [
    "import time\n",
    "\n",
    "import numpy as np\n",
    "import matplotlib.pyplot as plt\n",
    "from mpl_toolkits.mplot3d import Axes3D\n",
    "import somoclu\n",
    "import pandas as pd\n",
    "\n",
    "dataset = pd.read_csv('creditcard.csv').head(1000)\n",
    "X = dataset.iloc[:, :-1].values\n",
    "print(X)\n",
    "y = dataset.iloc[:, -1].values\n",
    "from sklearn.preprocessing import MinMaxScaler\n",
    "sc = MinMaxScaler(feature_range = (0, 1))\n",
    "data = sc.fit_transform(X)\n",
    "\n",
    "colors = ['red' if l == 0 else 'black' for l in dataset['Class']]\n",
    "print(colors)\n",
    "\n",
    "n_rows, n_columns = 100, 160\n",
    "som = somoclu.Somoclu(n_columns, n_rows, compactsupport=False)\n",
    "som.train(data)\n",
    "\n",
    "from sklearn.cluster import DBSCAN\n",
    "algorithm = DBSCAN()\n",
    "som.cluster(algorithm=algorithm)\n",
    "print(som.bmus[1, :])\n",
    "som.view_umatrix(bestmatches=True,  bestmatchcolors= colors)\n"
   ]
  }
 ],
 "metadata": {
  "kernelspec": {
   "display_name": "Python 2",
   "language": "python",
   "name": "python2"
  },
  "language_info": {
   "codemirror_mode": {
    "name": "ipython",
    "version": 2
   },
   "file_extension": ".py",
   "mimetype": "text/x-python",
   "name": "python",
   "nbconvert_exporter": "python",
   "pygments_lexer": "ipython2",
   "version": "2.7.6"
  }
 },
 "nbformat": 4,
 "nbformat_minor": 0
}
